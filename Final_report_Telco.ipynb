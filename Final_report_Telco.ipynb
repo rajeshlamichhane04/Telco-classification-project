{
 "cells": [
  {
   "cell_type": "markdown",
   "id": "0e5d706a",
   "metadata": {},
   "source": [
    "# A Look at Customer Churn at Telco"
   ]
  },
  {
   "cell_type": "markdown",
   "id": "117a85fe",
   "metadata": {},
   "source": [
    "<hr style=\"border-top: 50px groove brown; margin-top: 1px; margin-bottom: 1px\"></hr>"
   ]
  },
  {
   "cell_type": "markdown",
   "id": "e223944b",
   "metadata": {},
   "source": [
    "## Project Goals: "
   ]
  },
  {
   "cell_type": "markdown",
   "id": "38093c42",
   "metadata": {},
   "source": [
    "The goals of this project are to identify the drivers of customer churn at Telco, produce a prediction model to \n",
    "identify the customers who are at a greater risk of churn, and offer recommendations for reducing such churns."
   ]
  },
  {
   "cell_type": "markdown",
   "id": "ad45a1dd",
   "metadata": {},
   "source": [
    "## Project Description:"
   ]
  },
  {
   "cell_type": "markdown",
   "id": "4e6eaeee",
   "metadata": {},
   "source": [
    "I will compare the customers that have churned with those who have not. I will analyze the attributes that are driving the churn and build a prediction model. This model will provide a list of customers who are more likely to churn in form of predictions.csv. Finally, I will recommend courses of action to help promote customer retention."
   ]
  },
  {
   "cell_type": "markdown",
   "id": "8addcc44",
   "metadata": {},
   "source": [
    "## Initial Questions:"
   ]
  },
  {
   "cell_type": "markdown",
   "id": "5c0a29d9",
   "metadata": {},
   "source": [
    "1. What portion of customers are churning?\n",
    "\n",
    "2. What is the timeline of the most churn?\n",
    "\n",
    "3. Do the customers who churner pay higher monthly charges? \n",
    "\n",
    "4. Does contract type determine those customers who like churn?\n",
    "\n",
    "5. Does how customer pay the bill matter?"
   ]
  },
  {
   "cell_type": "markdown",
   "id": "c10cfaa0",
   "metadata": {},
   "source": [
    "## Imports"
   ]
  },
  {
   "cell_type": "code",
   "execution_count": 1,
   "id": "b657a1e1",
   "metadata": {},
   "outputs": [],
   "source": [
    "#get all the neccessary imports\n",
    "import pandas as pd\n",
    "import numpy as np\n",
    "\n",
    "import acquire\n",
    "import prepare\n",
    "\n",
    "import seaborn as sns\n",
    "import matplotlib.pyplot as plt\n",
    "\n",
    "from sklearn.model_selection import train_test_split\n",
    "from sklearn.linear_model import LogisticRegression\n",
    "\n",
    "import scipy.stats as stats\n",
    "\n",
    "from sklearn.tree import DecisionTreeClassifier\n",
    "from sklearn.ensemble import RandomForestClassifier\n",
    "from sklearn.neighbors import KNeighborsClassifier\n",
    "from sklearn.metrics import classification_report, confusion_matrix, ConfusionMatrixDisplay"
   ]
  },
  {
   "cell_type": "markdown",
   "id": "bb11a18e",
   "metadata": {},
   "source": [
    "## Acquire Data"
   ]
  },
  {
   "cell_type": "markdown",
   "id": "4e67667e",
   "metadata": {},
   "source": [
    "I acquired the Telco customer data from Telco_churn database from MySQL hosted at data.codeup.com. The code needed to acquire the data from the CodeUp database can be found in the acquire.py file. Access credentials are required to access the CodeUp database. The acquire file also creates a local copy of the dataframe as telco.csv."
   ]
  },
  {
   "cell_type": "code",
   "execution_count": 2,
   "id": "74853a1b",
   "metadata": {},
   "outputs": [],
   "source": [
    "#acquire telco data \n",
    "telco = acquire.get_telco_data()"
   ]
  },
  {
   "cell_type": "markdown",
   "id": "02d1e420",
   "metadata": {},
   "source": [
    "## Prepare Data"
   ]
  },
  {
   "cell_type": "markdown",
   "id": "d63c2bb7",
   "metadata": {},
   "source": [
    "The code for data step 1: clean up and and step 2: split can be found in the prepare file"
   ]
  },
  {
   "cell_type": "code",
   "execution_count": 3,
   "id": "954ca127",
   "metadata": {},
   "outputs": [
    {
     "data": {
      "text/html": [
       "<div>\n",
       "<style scoped>\n",
       "    .dataframe tbody tr th:only-of-type {\n",
       "        vertical-align: middle;\n",
       "    }\n",
       "\n",
       "    .dataframe tbody tr th {\n",
       "        vertical-align: top;\n",
       "    }\n",
       "\n",
       "    .dataframe thead th {\n",
       "        text-align: right;\n",
       "    }\n",
       "</style>\n",
       "<table border=\"1\" class=\"dataframe\">\n",
       "  <thead>\n",
       "    <tr style=\"text-align: right;\">\n",
       "      <th></th>\n",
       "      <th>payment_type_id</th>\n",
       "      <th>internet_service_type_id</th>\n",
       "      <th>contract_type_id</th>\n",
       "      <th>customer_id</th>\n",
       "      <th>gender</th>\n",
       "      <th>senior_citizen</th>\n",
       "      <th>partner</th>\n",
       "      <th>dependents</th>\n",
       "      <th>tenure</th>\n",
       "      <th>phone_service</th>\n",
       "      <th>...</th>\n",
       "      <th>tech_support</th>\n",
       "      <th>streaming_tv</th>\n",
       "      <th>streaming_movies</th>\n",
       "      <th>paperless_billing</th>\n",
       "      <th>monthly_charges</th>\n",
       "      <th>total_charges</th>\n",
       "      <th>churn</th>\n",
       "      <th>contract_type</th>\n",
       "      <th>internet_service_type</th>\n",
       "      <th>payment_type</th>\n",
       "    </tr>\n",
       "  </thead>\n",
       "  <tbody>\n",
       "    <tr>\n",
       "      <th>0</th>\n",
       "      <td>2</td>\n",
       "      <td>1</td>\n",
       "      <td>2</td>\n",
       "      <td>0002-ORFBO</td>\n",
       "      <td>Female</td>\n",
       "      <td>0</td>\n",
       "      <td>Yes</td>\n",
       "      <td>Yes</td>\n",
       "      <td>9</td>\n",
       "      <td>Yes</td>\n",
       "      <td>...</td>\n",
       "      <td>Yes</td>\n",
       "      <td>Yes</td>\n",
       "      <td>No</td>\n",
       "      <td>Yes</td>\n",
       "      <td>65.6</td>\n",
       "      <td>593.3</td>\n",
       "      <td>No</td>\n",
       "      <td>One year</td>\n",
       "      <td>DSL</td>\n",
       "      <td>Mailed check</td>\n",
       "    </tr>\n",
       "    <tr>\n",
       "      <th>1</th>\n",
       "      <td>2</td>\n",
       "      <td>1</td>\n",
       "      <td>1</td>\n",
       "      <td>0003-MKNFE</td>\n",
       "      <td>Male</td>\n",
       "      <td>0</td>\n",
       "      <td>No</td>\n",
       "      <td>No</td>\n",
       "      <td>9</td>\n",
       "      <td>Yes</td>\n",
       "      <td>...</td>\n",
       "      <td>No</td>\n",
       "      <td>No</td>\n",
       "      <td>Yes</td>\n",
       "      <td>No</td>\n",
       "      <td>59.9</td>\n",
       "      <td>542.4</td>\n",
       "      <td>No</td>\n",
       "      <td>Month-to-month</td>\n",
       "      <td>DSL</td>\n",
       "      <td>Mailed check</td>\n",
       "    </tr>\n",
       "    <tr>\n",
       "      <th>2</th>\n",
       "      <td>1</td>\n",
       "      <td>2</td>\n",
       "      <td>1</td>\n",
       "      <td>0004-TLHLJ</td>\n",
       "      <td>Male</td>\n",
       "      <td>0</td>\n",
       "      <td>No</td>\n",
       "      <td>No</td>\n",
       "      <td>4</td>\n",
       "      <td>Yes</td>\n",
       "      <td>...</td>\n",
       "      <td>No</td>\n",
       "      <td>No</td>\n",
       "      <td>No</td>\n",
       "      <td>Yes</td>\n",
       "      <td>73.9</td>\n",
       "      <td>280.85</td>\n",
       "      <td>Yes</td>\n",
       "      <td>Month-to-month</td>\n",
       "      <td>Fiber optic</td>\n",
       "      <td>Electronic check</td>\n",
       "    </tr>\n",
       "    <tr>\n",
       "      <th>3</th>\n",
       "      <td>1</td>\n",
       "      <td>2</td>\n",
       "      <td>1</td>\n",
       "      <td>0011-IGKFF</td>\n",
       "      <td>Male</td>\n",
       "      <td>1</td>\n",
       "      <td>Yes</td>\n",
       "      <td>No</td>\n",
       "      <td>13</td>\n",
       "      <td>Yes</td>\n",
       "      <td>...</td>\n",
       "      <td>No</td>\n",
       "      <td>Yes</td>\n",
       "      <td>Yes</td>\n",
       "      <td>Yes</td>\n",
       "      <td>98.0</td>\n",
       "      <td>1237.85</td>\n",
       "      <td>Yes</td>\n",
       "      <td>Month-to-month</td>\n",
       "      <td>Fiber optic</td>\n",
       "      <td>Electronic check</td>\n",
       "    </tr>\n",
       "    <tr>\n",
       "      <th>4</th>\n",
       "      <td>2</td>\n",
       "      <td>2</td>\n",
       "      <td>1</td>\n",
       "      <td>0013-EXCHZ</td>\n",
       "      <td>Female</td>\n",
       "      <td>1</td>\n",
       "      <td>Yes</td>\n",
       "      <td>No</td>\n",
       "      <td>3</td>\n",
       "      <td>Yes</td>\n",
       "      <td>...</td>\n",
       "      <td>Yes</td>\n",
       "      <td>Yes</td>\n",
       "      <td>No</td>\n",
       "      <td>Yes</td>\n",
       "      <td>83.9</td>\n",
       "      <td>267.4</td>\n",
       "      <td>Yes</td>\n",
       "      <td>Month-to-month</td>\n",
       "      <td>Fiber optic</td>\n",
       "      <td>Mailed check</td>\n",
       "    </tr>\n",
       "  </tbody>\n",
       "</table>\n",
       "<p>5 rows × 24 columns</p>\n",
       "</div>"
      ],
      "text/plain": [
       "   payment_type_id  internet_service_type_id  contract_type_id customer_id  \\\n",
       "0                2                         1                 2  0002-ORFBO   \n",
       "1                2                         1                 1  0003-MKNFE   \n",
       "2                1                         2                 1  0004-TLHLJ   \n",
       "3                1                         2                 1  0011-IGKFF   \n",
       "4                2                         2                 1  0013-EXCHZ   \n",
       "\n",
       "   gender  senior_citizen partner dependents  tenure phone_service  ...  \\\n",
       "0  Female               0     Yes        Yes       9           Yes  ...   \n",
       "1    Male               0      No         No       9           Yes  ...   \n",
       "2    Male               0      No         No       4           Yes  ...   \n",
       "3    Male               1     Yes         No      13           Yes  ...   \n",
       "4  Female               1     Yes         No       3           Yes  ...   \n",
       "\n",
       "  tech_support streaming_tv streaming_movies paperless_billing  \\\n",
       "0          Yes          Yes               No               Yes   \n",
       "1           No           No              Yes                No   \n",
       "2           No           No               No               Yes   \n",
       "3           No          Yes              Yes               Yes   \n",
       "4          Yes          Yes               No               Yes   \n",
       "\n",
       "  monthly_charges total_charges churn   contract_type  internet_service_type  \\\n",
       "0            65.6         593.3    No        One year                    DSL   \n",
       "1            59.9         542.4    No  Month-to-month                    DSL   \n",
       "2            73.9        280.85   Yes  Month-to-month            Fiber optic   \n",
       "3            98.0       1237.85   Yes  Month-to-month            Fiber optic   \n",
       "4            83.9         267.4   Yes  Month-to-month            Fiber optic   \n",
       "\n",
       "       payment_type  \n",
       "0      Mailed check  \n",
       "1      Mailed check  \n",
       "2  Electronic check  \n",
       "3  Electronic check  \n",
       "4      Mailed check  \n",
       "\n",
       "[5 rows x 24 columns]"
      ]
     },
     "execution_count": 3,
     "metadata": {},
     "output_type": "execute_result"
    }
   ],
   "source": [
    "#take a peek at the data\n",
    "telco.head()"
   ]
  },
  {
   "cell_type": "code",
   "execution_count": 4,
   "id": "59323aa1",
   "metadata": {},
   "outputs": [
    {
     "data": {
      "text/plain": [
       "(7043, 24)"
      ]
     },
     "execution_count": 4,
     "metadata": {},
     "output_type": "execute_result"
    }
   ],
   "source": [
    "# how big is the data?\n",
    "telco.shape"
   ]
  },
  {
   "cell_type": "code",
   "execution_count": 5,
   "id": "b84b0548",
   "metadata": {},
   "outputs": [
    {
     "name": "stdout",
     "output_type": "stream",
     "text": [
      "<class 'pandas.core.frame.DataFrame'>\n",
      "Int64Index: 7043 entries, 0 to 7042\n",
      "Data columns (total 24 columns):\n",
      " #   Column                    Non-Null Count  Dtype  \n",
      "---  ------                    --------------  -----  \n",
      " 0   payment_type_id           7043 non-null   int64  \n",
      " 1   internet_service_type_id  7043 non-null   int64  \n",
      " 2   contract_type_id          7043 non-null   int64  \n",
      " 3   customer_id               7043 non-null   object \n",
      " 4   gender                    7043 non-null   object \n",
      " 5   senior_citizen            7043 non-null   int64  \n",
      " 6   partner                   7043 non-null   object \n",
      " 7   dependents                7043 non-null   object \n",
      " 8   tenure                    7043 non-null   int64  \n",
      " 9   phone_service             7043 non-null   object \n",
      " 10  multiple_lines            7043 non-null   object \n",
      " 11  online_security           7043 non-null   object \n",
      " 12  online_backup             7043 non-null   object \n",
      " 13  device_protection         7043 non-null   object \n",
      " 14  tech_support              7043 non-null   object \n",
      " 15  streaming_tv              7043 non-null   object \n",
      " 16  streaming_movies          7043 non-null   object \n",
      " 17  paperless_billing         7043 non-null   object \n",
      " 18  monthly_charges           7043 non-null   float64\n",
      " 19  total_charges             7043 non-null   object \n",
      " 20  churn                     7043 non-null   object \n",
      " 21  contract_type             7043 non-null   object \n",
      " 22  internet_service_type     7043 non-null   object \n",
      " 23  payment_type              7043 non-null   object \n",
      "dtypes: float64(1), int64(5), object(18)\n",
      "memory usage: 1.3+ MB\n"
     ]
    }
   ],
   "source": [
    "# get more info of the columns\n",
    "telco.info()"
   ]
  },
  {
   "cell_type": "markdown",
   "id": "ce05f713",
   "metadata": {},
   "source": [
    "    Columns with dataype object will need to be hot encoded"
   ]
  },
  {
   "cell_type": "code",
   "execution_count": 6,
   "id": "4839fd82",
   "metadata": {},
   "outputs": [
    {
     "data": {
      "text/plain": [
       "           11\n",
       "20.2       11\n",
       "19.75       9\n",
       "19.9        8\n",
       "20.05       8\n",
       "           ..\n",
       "2387.75     1\n",
       "6302.8      1\n",
       "2058.5      1\n",
       "829.55      1\n",
       "3707.6      1\n",
       "Name: total_charges, Length: 6531, dtype: int64"
      ]
     },
     "execution_count": 6,
     "metadata": {},
     "output_type": "execute_result"
    }
   ],
   "source": [
    "#total charges column has 11 empty space\n",
    "telco.total_charges.value_counts()"
   ]
  },
  {
   "cell_type": "markdown",
   "id": "877fbb5d",
   "metadata": {},
   "source": [
    "Clean Data\n",
    "\n",
    "1. Replaced 11 blank values in column \"total_charges\" with 0. The tenure associated with those columns was 0. Thus I decided that the total charge has not piled up on them yet. Customer with tenure 1 month had same monthly and total charges\n",
    "2. Converted column \"total_charges\" to float\n",
    "3. Removed duplicate columns\n",
    "4. Encoded dummies variables for all discrete variables used during modeling\n",
    "5. Cleaned up column names"
   ]
  },
  {
   "cell_type": "markdown",
   "id": "fc08f67e",
   "metadata": {},
   "source": [
    "Split data\n",
    "\n",
    "1. Data splited in to 3 samples of train (60%), validate(20%) and test(20%)\n",
    "2. Our target is churn"
   ]
  },
  {
   "cell_type": "code",
   "execution_count": 4,
   "id": "ce205e63",
   "metadata": {},
   "outputs": [],
   "source": [
    "# get the split data from import called prepare\n",
    "train,validate,test = prepare.prep_telco_data(telco)"
   ]
  },
  {
   "cell_type": "code",
   "execution_count": 8,
   "id": "f56c7523",
   "metadata": {},
   "outputs": [
    {
     "data": {
      "text/plain": [
       "[(4225, 48), (1409, 48), (1409, 48)]"
      ]
     },
     "execution_count": 8,
     "metadata": {},
     "output_type": "execute_result"
    }
   ],
   "source": [
    "#take a peek at the split\n",
    "[train.shape,validate.shape,test.shape]"
   ]
  },
  {
   "cell_type": "markdown",
   "id": "9b5d33b3",
   "metadata": {},
   "source": [
    "I did not drop columns which I hot encoded for modeling."
   ]
  },
  {
   "cell_type": "markdown",
   "id": "5ac52890",
   "metadata": {},
   "source": [
    "## Explore Data"
   ]
  },
  {
   "cell_type": "markdown",
   "id": "edd1671f",
   "metadata": {},
   "source": [
    "    Important note: I will do exploration analysis only in train data"
   ]
  },
  {
   "cell_type": "markdown",
   "id": "7c70df22",
   "metadata": {},
   "source": [
    "Answers to my initial questions:\n",
    "\n",
    "    1. What portion of customers are churning?"
   ]
  },
  {
   "cell_type": "code",
   "execution_count": 9,
   "id": "419d2386",
   "metadata": {},
   "outputs": [
    {
     "data": {
      "text/plain": [
       "27"
      ]
     },
     "execution_count": 9,
     "metadata": {},
     "output_type": "execute_result"
    }
   ],
   "source": [
    "#calculate churn percent using mean\n",
    "churn_mean = round((train.churn_encoded).mean() *100)\n",
    "churn_mean"
   ]
  },
  {
   "cell_type": "code",
   "execution_count": 10,
   "id": "19c046e2",
   "metadata": {},
   "outputs": [
    {
     "data": {
      "image/png": "[encoded data removed]",
      "text/plain": [
       "<Figure size 720x432 with 1 Axes>"
      ]
     },
     "metadata": {},
     "output_type": "display_data"
    }
   ],
   "source": [
    "#visualise churn in a pie chart\n",
    "plt.figure(figsize = (10,6))\n",
    "plt.title(\"customer churn rate in telco\")\n",
    "labels = [\"churn: 27%\", \"no churn: 73%\"]\n",
    "plt.pie([(train.churn == 'Yes').sum(), (train.churn == 'No').sum()], labels=labels, explode = [0.2,0])\n",
    "plt.show()"
   ]
  },
  {
   "cell_type": "markdown",
   "id": "974e53d0",
   "metadata": {},
   "source": [
    "    27% of customers are churning."
   ]
  },
  {
   "cell_type": "markdown",
   "id": "8897c831",
   "metadata": {},
   "source": [
    "    2. What is the timeline of the most churn?"
   ]
  },
  {
   "cell_type": "code",
   "execution_count": 11,
   "id": "c4540a2f",
   "metadata": {},
   "outputs": [
    {
     "data": {
      "image/png": "[encoded data removed]",
      "text/plain": [
       "<Figure size 576x432 with 1 Axes>"
      ]
     },
     "metadata": {
      "needs_background": "light"
     },
     "output_type": "display_data"
    }
   ],
   "source": [
    "#create a violion plot to vizualize churn vs tenure\n",
    "plt.figure(figsize = (8,6))\n",
    "plt.title(\"most people who churned left in early\")\n",
    "sns.violinplot(x = \"churn\",y = \"tenure\", data = train)\n",
    "plt.show()"
   ]
  },
  {
   "cell_type": "markdown",
   "id": "8810d84c",
   "metadata": {},
   "source": [
    "    Most churn occurs in the early months, steep churn rate"
   ]
  },
  {
   "cell_type": "markdown",
   "id": "3b9204e5",
   "metadata": {},
   "source": [
    "    3. Do the customers who churner pay higher monthly charges? "
   ]
  },
  {
   "cell_type": "code",
   "execution_count": 12,
   "id": "3c2ad9f5",
   "metadata": {},
   "outputs": [
    {
     "data": {
      "image/png": "[encoded data removed]",
      "text/plain": [
       "<Figure size 576x432 with 1 Axes>"
      ]
     },
     "metadata": {
      "needs_background": "light"
     },
     "output_type": "display_data"
    }
   ],
   "source": [
    "#create violin plot to visualise churn vs monthly charges\n",
    "plt.figure(figsize = (8,6))\n",
    "plt.title(\"most who churned paid more each month\")\n",
    "sns.violinplot(x = \"churn\",y = \"monthly_charges\", data = train)\n",
    "plt.show()"
   ]
  },
  {
   "cell_type": "markdown",
   "id": "dd436452",
   "metadata": {},
   "source": [
    "We will do t-test here, compare the mean of monthly charges in churn vs not churn"
   ]
  },
  {
   "cell_type": "code",
   "execution_count": 13,
   "id": "90b7c8cc",
   "metadata": {},
   "outputs": [
    {
     "name": "stdout",
     "output_type": "stream",
     "text": [
      "reject null hypothesis and conclude variances are not equal\n"
     ]
    }
   ],
   "source": [
    "#create subgroup of monthly charges\n",
    "train_yes_churn= train[train.churn_encoded == 1].monthly_charges\n",
    "train_no_churn= train[train.churn_encoded == 0].monthly_charges\n",
    "\n",
    "# run levene test to compare variance\n",
    "null_hyp = \"variances  are equal\"\n",
    "alt_hyp = \"variances are not equal\"\n",
    "alpha = 0.05\n",
    "t,p_levene = stats.levene(train_yes_churn, train_no_churn)\n",
    "if p_levene < alpha:\n",
    "    print(\"reject null hypothesis and conclude\", alt_hyp)\n",
    "else:\n",
    "    print(\"fail to reject null hypothesis and conclude\" , null_hyp)"
   ]
  },
  {
   "cell_type": "code",
   "execution_count": 14,
   "id": "b884cc36",
   "metadata": {},
   "outputs": [
    {
     "name": "stdout",
     "output_type": "stream",
     "text": [
      "reject null hypothesis and conclude there is difference in monthly charge of people who churned and who did not\n"
     ]
    }
   ],
   "source": [
    "#run t-test on the compare the tow sub means\n",
    "null_hyp = \"no difference in monthly charges of people who churned and who did not\"\n",
    "alt_hyp = \"there is difference in monthly charge of people who churned and who did not\"\n",
    "t,p = stats.ttest_ind(train_yes_churn, train_no_churn, equal_var = False)\n",
    "if p < alpha:\n",
    "    print(\"reject null hypothesis and conclude\", alt_hyp )\n",
    "else:\n",
    "    print(\"fail to reject null hypothesis and conclude\", null_hyp)"
   ]
  },
  {
   "cell_type": "markdown",
   "id": "20ef404c",
   "metadata": {},
   "source": [
    "    customers who churn usually pay higher in monthly charge on average"
   ]
  },
  {
   "cell_type": "markdown",
   "id": "4a3369ec",
   "metadata": {},
   "source": [
    "    4. Does contract type determine those customers who like churn?\n",
    "\n"
   ]
  },
  {
   "cell_type": "code",
   "execution_count": 70,
   "id": "5ce0f451",
   "metadata": {},
   "outputs": [
    {
     "data": {
      "image/png": "[encoded data removed]",
      "text/plain": [
       "<Figure size 576x432 with 1 Axes>"
      ]
     },
     "metadata": {
      "needs_background": "light"
     },
     "output_type": "display_data"
    }
   ],
   "source": [
    "#create countplot to visualize churn vs contract type\n",
    "plt.figure(figsize = (8,6))\n",
    "plt.title(\"relationship of churn and contract type\")\n",
    "sns.countplot(hue = \"contract_type\", x = \"churn\", data = train)\n",
    "plt.legend(loc=\"upper right\")\n",
    "plt.show()"
   ]
  },
  {
   "cell_type": "code",
   "execution_count": 19,
   "id": "3652b334",
   "metadata": {},
   "outputs": [
    {
     "name": "stdout",
     "output_type": "stream",
     "text": [
      "reject the null hypothesis that and conclude contract type and churn rate are dependent\n"
     ]
    }
   ],
   "source": [
    "null_hyp = 'contract type and churn rate are independent'\n",
    "alt_hyp = 'contract type and churn rate are dependent'\n",
    "observed = pd.crosstab(train.churn, train.contract_type)\n",
    "chi2, p, degf, expected = stats.chi2_contingency(observed)\n",
    "if p < alpha:\n",
    "    print('reject the null hypothesis that and conclude', alt_hyp)\n",
    "    \n",
    "else:\n",
    "    print('fail to reject the null hypothesis and conclude', null_hyp)"
   ]
  },
  {
   "cell_type": "markdown",
   "id": "82353880",
   "metadata": {},
   "source": [
    "    Month to month contract seem a very deal for telco"
   ]
  },
  {
   "cell_type": "markdown",
   "id": "ce526664",
   "metadata": {},
   "source": [
    "    5. Does how customers pay the bill matter?"
   ]
  },
  {
   "cell_type": "code",
   "execution_count": 36,
   "id": "3358ab78",
   "metadata": {},
   "outputs": [
    {
     "data": {
      "image/png": "[encoded data removed]",
      "text/plain": [
       "<Figure size 576x432 with 1 Axes>"
      ]
     },
     "metadata": {
      "needs_background": "light"
     },
     "output_type": "display_data"
    }
   ],
   "source": [
    "#create countplot to visualize churn vs contract type\n",
    "plt.figure(figsize = (8,6))\n",
    "plt.title(\"relationship of churn and payment type\")\n",
    "sns.countplot(hue = \"payment_type\", x = \"churn\", data = train)\n",
    "plt.legend(loc=\"upper right\")\n",
    "plt.show()"
   ]
  },
  {
   "cell_type": "code",
   "execution_count": 39,
   "id": "8228f843",
   "metadata": {},
   "outputs": [
    {
     "name": "stdout",
     "output_type": "stream",
     "text": [
      "reject the null hypothesis that and conclude payment type and churn rate are dependent\n"
     ]
    }
   ],
   "source": [
    "#set up chi2 test on churn vs payment type\n",
    "null_hyp = 'payment type and churn rate are independent'\n",
    "alt_hyp = 'payment type and churn rate are dependent'\n",
    "observed = pd.crosstab(train.churn, train.payment_type)\n",
    "chi2, p, degf, expected = stats.chi2_contingency(observed)\n",
    "if p < alpha:\n",
    "    print('reject the null hypothesis that and conclude', alt_hyp)\n",
    "    \n",
    "else:\n",
    "    print('fail to reject the null hypothesis and conclude', null_hyp)"
   ]
  },
  {
   "cell_type": "markdown",
   "id": "82958404",
   "metadata": {},
   "source": [
    "     need to transition customers to other form of payment"
   ]
  },
  {
   "cell_type": "code",
   "execution_count": 38,
   "id": "5231be44",
   "metadata": {},
   "outputs": [
    {
     "data": {
      "image/png": "[encoded data removed]",
      "text/plain": [
       "<Figure size 576x432 with 1 Axes>"
      ]
     },
     "metadata": {
      "needs_background": "light"
     },
     "output_type": "display_data"
    }
   ],
   "source": [
    "#create countplot to visualize churn vs gender type\n",
    "plt.figure(figsize = (8,6))\n",
    "plt.title(\" no relationship of churn and gender\")\n",
    "sns.countplot(hue = \"gender\", x = \"churn\", data = train)\n",
    "plt.legend(loc=\"upper right\")\n",
    "plt.show()"
   ]
  },
  {
   "cell_type": "code",
   "execution_count": 35,
   "id": "3176344e",
   "metadata": {},
   "outputs": [
    {
     "name": "stdout",
     "output_type": "stream",
     "text": [
      "fail to reject the null hypothesis and conclude gender and churn rate are independent\n"
     ]
    }
   ],
   "source": [
    "null_hyp = 'gender and churn rate are independent'\n",
    "alt_hyp = 'gender and churn rate are dependent'\n",
    "observed = pd.crosstab(train.churn, train.gender)\n",
    "chi2, p, degf, expected = stats.chi2_contingency(observed)\n",
    "if p < alpha:\n",
    "    print('reject the null hypothesis that and conclude', alt_hyp)\n",
    "    \n",
    "else:\n",
    "    print('fail to reject the null hypothesis and conclude', null_hyp)"
   ]
  },
  {
   "cell_type": "markdown",
   "id": "932dbcf6",
   "metadata": {},
   "source": [
    "feature engineering: we will add all the services subscribed by the customers and take a look at the churn"
   ]
  },
  {
   "cell_type": "code",
   "execution_count": 15,
   "id": "4d3c35f1",
   "metadata": {},
   "outputs": [],
   "source": [
    "# make a new column, add all the services used to each customers\n",
    "train[\"added_services\"] = (train[['phone_service','multiple_lines','online_security','online_backup',\n",
    "                'device_protection','tech_support','streaming_tv','streaming_movies']] == \"Yes\").sum(axis =1 )"
   ]
  },
  {
   "cell_type": "code",
   "execution_count": 16,
   "id": "ee084d8d",
   "metadata": {},
   "outputs": [
    {
     "data": {
      "image/png": "[encoded data removed]",
      "text/plain": [
       "<Figure size 576x432 with 1 Axes>"
      ]
     },
     "metadata": {
      "needs_background": "light"
     },
     "output_type": "display_data"
    }
   ],
   "source": [
    "plt.figure(figsize = (8,6))\n",
    "sns.barplot(x = \"added_services\", y = \"monthly_charges\", data = train)\n",
    "plt.title(\"get what you pay or there is no package deal?\")\n",
    "plt.show()"
   ]
  },
  {
   "cell_type": "markdown",
   "id": "076723e5",
   "metadata": {},
   "source": [
    "    more the added services, higher is the monthly charge. \n",
    "    may need to give out package deals at lower costs, needs more investigation"
   ]
  },
  {
   "cell_type": "markdown",
   "id": "b8e55cf2",
   "metadata": {},
   "source": [
    "how about lonely people?"
   ]
  },
  {
   "cell_type": "code",
   "execution_count": 17,
   "id": "3589fc38",
   "metadata": {},
   "outputs": [],
   "source": [
    "#make new column with sum of customers with dependent or partner\n",
    "train[\"dependent_and_partner\"] = (train[[\"dependents\", \"partner\"]] == \"Yes\").sum(axis =1)"
   ]
  },
  {
   "cell_type": "code",
   "execution_count": 18,
   "id": "05fb490c",
   "metadata": {},
   "outputs": [
    {
     "data": {
      "image/png": "[encoded data removed]",
      "text/plain": [
       "<Figure size 576x432 with 1 Axes>"
      ]
     },
     "metadata": {
      "needs_background": "light"
     },
     "output_type": "display_data"
    }
   ],
   "source": [
    "#create countplot to visualize churn vs customers with dependent or partner\n",
    "plt.figure(figsize = (8,6))\n",
    "plt.title(\"lonely customers are risky\")\n",
    "sns.countplot(x= train.dependent_and_partner, hue = train.churn)\n",
    "plt.show()"
   ]
  },
  {
   "cell_type": "code",
   "execution_count": 19,
   "id": "07ec73e1",
   "metadata": {},
   "outputs": [
    {
     "data": {
      "text/plain": [
       "dependent_and_partner  churn\n",
       "0                      No       65.116279\n",
       "                       Yes      34.883721\n",
       "1                      No       76.268412\n",
       "                       Yes      23.731588\n",
       "2                      No       85.393258\n",
       "                       Yes      14.606742\n",
       "Name: churn, dtype: float64"
      ]
     },
     "execution_count": 19,
     "metadata": {},
     "output_type": "execute_result"
    }
   ],
   "source": [
    "#run group by at this column to get churn rate\n",
    "train.groupby([ \"dependent_and_partner\"])[\"churn\"].value_counts(normalize = True).mul(100)"
   ]
  },
  {
   "cell_type": "markdown",
   "id": "8e8600c3",
   "metadata": {},
   "source": [
    "    largest customers are share all burden of monthly charge, have high churn rate, 35%\n",
    "    push for refferral discounts aggressively\n",
    "    "
   ]
  },
  {
   "cell_type": "markdown",
   "id": "498e2099",
   "metadata": {},
   "source": [
    "From exploration, we choose our contract type, payment type, internet service type, online security, tech support, tenure, senior citizen and monthly charge for modeling"
   ]
  },
  {
   "cell_type": "markdown",
   "id": "64ecc064",
   "metadata": {},
   "source": [
    "## Modeling"
   ]
  },
  {
   "cell_type": "markdown",
   "id": "8410dc32",
   "metadata": {},
   "source": [
    "After we have identified our most drivers for churn, we used those features to create a supervised machine learning models that helped us identify the possible churn of any given customer. "
   ]
  },
  {
   "cell_type": "markdown",
   "id": "dcdf8ca6",
   "metadata": {},
   "source": [
    "Churn is our target variable"
   ]
  },
  {
   "cell_type": "markdown",
   "id": "7de8cb96",
   "metadata": {},
   "source": [
    "We will use our training data to train/fit to our model and then tune the model on our validate data."
   ]
  },
  {
   "cell_type": "markdown",
   "id": "4bb91479",
   "metadata": {},
   "source": [
    "We will pick our best model on accuracy and recall. Since predicting churn is a positive case, we need to predict the customer who we falsely assume are not going to churn but actually do churn."
   ]
  },
  {
   "cell_type": "markdown",
   "id": "c5227161",
   "metadata": {},
   "source": [
    "The three models used were\n",
    "\n",
    "1. Decision tree\n",
    "2. Randon forest\n",
    "3. K-Nearest Neighbor"
   ]
  },
  {
   "cell_type": "code",
   "execution_count": 5,
   "id": "69ea253a",
   "metadata": {},
   "outputs": [],
   "source": [
    "encoded_features =['contract_type_one_year', 'contract_type_two_year','payment_type_mailed_check','payment_type_credit_card_automatic', 'payment_type_electronic_check', 'internet_service_type_none', 'online_security_no_internet_service', 'online_security_yes',\n",
    "                  'tech_support_no_internet_service','tech_support_yes', 'tech_support_yes','tenure','monthly_charges', 'senior_citizen','internet_service_type_fiber_optic']  "
   ]
  },
  {
   "cell_type": "code",
   "execution_count": 6,
   "id": "22f77bc4",
   "metadata": {},
   "outputs": [],
   "source": [
    "# X is going to be our entire domain, indepedent variables, minus the target variable\n",
    "# y is going to be our target variable, the dependent thing that we are using X to predict\n",
    "X_train = train[encoded_features]\n",
    "y_train = train.churn_encoded\n",
    "X_validate = validate[encoded_features]\n",
    "y_validate = validate.churn_encoded\n",
    "X_test = test[encoded_features]\n",
    "y_test = test.churn_encoded"
   ]
  },
  {
   "cell_type": "markdown",
   "id": "cd6d08b8",
   "metadata": {},
   "source": [
    "### Baseline Prediction:"
   ]
  },
  {
   "cell_type": "markdown",
   "id": "ac4a71ce",
   "metadata": {},
   "source": [
    "A baseline prediction is a benchmark. It predicts the most prevelant class in the train data. We compare our model and want to it better than this baseline prediction."
   ]
  },
  {
   "cell_type": "code",
   "execution_count": 24,
   "id": "666d2cd3",
   "metadata": {},
   "outputs": [
    {
     "data": {
      "text/plain": [
       "0    3104\n",
       "1    1121\n",
       "Name: churn_encoded, dtype: int64"
      ]
     },
     "execution_count": 24,
     "metadata": {},
     "output_type": "execute_result"
    }
   ],
   "source": [
    "# baseline prediction: baseline is the mode value\n",
    "y_train.value_counts()"
   ]
  },
  {
   "cell_type": "code",
   "execution_count": 25,
   "id": "79315060",
   "metadata": {},
   "outputs": [
    {
     "name": "stdout",
     "output_type": "stream",
     "text": [
      "Our baseline accuracy for churn in all cases is 0.735\n"
     ]
    }
   ],
   "source": [
    "# baseline prediction\n",
    "(y_train == 0).mean()\n",
    "print(f'Our baseline accuracy for churn in all cases is {(y_train == 0).mean():.3}')"
   ]
  },
  {
   "cell_type": "markdown",
   "id": "fb12d582",
   "metadata": {},
   "source": [
    "### Model 1: Decision Tree (max_depth = 5)"
   ]
  },
  {
   "cell_type": "code",
   "execution_count": 26,
   "id": "ef89ee72",
   "metadata": {},
   "outputs": [],
   "source": [
    "#create decision tree classifier \n",
    "clf = DecisionTreeClassifier(max_depth=5, random_state=123)\n",
    "\n",
    "#fit the random forest algorithm to the training data.\n",
    "clf = clf.fit(X_train, y_train)\n",
    "\n",
    "## make prediction on train obeservations\n",
    "y_pred = clf.predict(X_train)"
   ]
  },
  {
   "cell_type": "code",
   "execution_count": 27,
   "id": "baa5512b",
   "metadata": {},
   "outputs": [],
   "source": [
    "# make prediction on validate obeservations\n",
    "y_pred_val = clf.predict(X_validate)"
   ]
  },
  {
   "cell_type": "code",
   "execution_count": 28,
   "id": "45f8450c",
   "metadata": {},
   "outputs": [
    {
     "name": "stdout",
     "output_type": "stream",
     "text": [
      "train score\n",
      "              precision    recall  f1-score   support\n",
      "\n",
      "           0       0.85      0.89      0.87      3104\n",
      "           1       0.65      0.56      0.60      1121\n",
      "\n",
      "    accuracy                           0.80      4225\n",
      "   macro avg       0.75      0.72      0.73      4225\n",
      "weighted avg       0.79      0.80      0.80      4225\n",
      "\n",
      "\n",
      "validate score\n",
      "              precision    recall  f1-score   support\n",
      "\n",
      "           0       0.85      0.88      0.86      1035\n",
      "           1       0.62      0.56      0.59       374\n",
      "\n",
      "    accuracy                           0.79      1409\n",
      "   macro avg       0.74      0.72      0.73      1409\n",
      "weighted avg       0.79      0.79      0.79      1409\n",
      "\n"
     ]
    }
   ],
   "source": [
    "#create classification report for Model 1\n",
    "print(\"train score\")\n",
    "print(classification_report(y_train, y_pred))\n",
    "print()\n",
    "print(\"validate score\")\n",
    "print(classification_report(y_validate, y_pred_val))"
   ]
  },
  {
   "cell_type": "markdown",
   "id": "208dea2f",
   "metadata": {},
   "source": [
    "Model 2: Random Forest( min_samples_leaf= 14)"
   ]
  },
  {
   "cell_type": "code",
   "execution_count": 8,
   "id": "648338f5",
   "metadata": {},
   "outputs": [],
   "source": [
    "#create random forest classifier \n",
    "rf = RandomForestClassifier(min_samples_leaf= 14,random_state=123)\n",
    "\n",
    "#fit the random forest algorithm to the training data.\n",
    "rf = rf.fit(X_train, y_train)\n",
    "\n",
    "## make prediction on train obeservations\n",
    "y_pred = rf.predict(X_train)\n"
   ]
  },
  {
   "cell_type": "code",
   "execution_count": 30,
   "id": "90d82b97",
   "metadata": {},
   "outputs": [],
   "source": [
    "# make prediction on validate obeservations\n",
    "y_pred_val = rf.predict(X_validate)"
   ]
  },
  {
   "cell_type": "code",
   "execution_count": 31,
   "id": "4a9fb0c8",
   "metadata": {},
   "outputs": [
    {
     "name": "stdout",
     "output_type": "stream",
     "text": [
      "train score\n",
      "              precision    recall  f1-score   support\n",
      "\n",
      "           0       0.84      0.92      0.88      3104\n",
      "           1       0.70      0.52      0.60      1121\n",
      "\n",
      "    accuracy                           0.81      4225\n",
      "   macro avg       0.77      0.72      0.74      4225\n",
      "weighted avg       0.80      0.81      0.80      4225\n",
      "\n",
      "\n",
      "validate score\n",
      "              precision    recall  f1-score   support\n",
      "\n",
      "           0       0.84      0.91      0.87      1035\n",
      "           1       0.67      0.53      0.59       374\n",
      "\n",
      "    accuracy                           0.81      1409\n",
      "   macro avg       0.76      0.72      0.73      1409\n",
      "weighted avg       0.80      0.81      0.80      1409\n",
      "\n"
     ]
    }
   ],
   "source": [
    "#create classification report for Model 2\n",
    "print(\"train score\")\n",
    "print(classification_report(y_train, y_pred))\n",
    "print()\n",
    "print(\"validate score\")\n",
    "print(classification_report(y_validate, y_pred_val))"
   ]
  },
  {
   "cell_type": "markdown",
   "id": "e6c03345",
   "metadata": {},
   "source": [
    "### model3: KNN"
   ]
  },
  {
   "cell_type": "code",
   "execution_count": 32,
   "id": "ca1377e0",
   "metadata": {},
   "outputs": [],
   "source": [
    "#create k-neightbor classifier \n",
    "knn = KNeighborsClassifier(n_neighbors = 24, weights = \"uniform\")\n",
    "#fit the model\n",
    "knn= knn.fit(X_train,y_train)\n",
    "#make predictions of training data\n",
    "y_pred = knn.predict(X_train)\n"
   ]
  },
  {
   "cell_type": "code",
   "execution_count": 34,
   "id": "1fb01f4f",
   "metadata": {},
   "outputs": [
    {
     "name": "stdout",
     "output_type": "stream",
     "text": [
      "train score\n",
      "              precision    recall  f1-score   support\n",
      "\n",
      "           0       0.83      0.92      0.87      3104\n",
      "           1       0.68      0.47      0.56      1121\n",
      "\n",
      "    accuracy                           0.80      4225\n",
      "   macro avg       0.75      0.70      0.71      4225\n",
      "weighted avg       0.79      0.80      0.79      4225\n",
      "\n",
      "\n",
      "validate score\n",
      "              precision    recall  f1-score   support\n",
      "\n",
      "           0       0.84      0.91      0.87      1035\n",
      "           1       0.67      0.53      0.59       374\n",
      "\n",
      "    accuracy                           0.81      1409\n",
      "   macro avg       0.76      0.72      0.73      1409\n",
      "weighted avg       0.80      0.81      0.80      1409\n",
      "\n"
     ]
    }
   ],
   "source": [
    "#create classification report for Model 3\n",
    "print(\"train score\")\n",
    "print(classification_report(y_train, y_pred))\n",
    "print()\n",
    "print(\"validate score\")\n",
    "print(classification_report(y_validate, y_pred_val))"
   ]
  },
  {
   "cell_type": "markdown",
   "id": "77e4b89d",
   "metadata": {},
   "source": [
    "Random forest model here has train accuracy of 81%, validate accuracy of 81% and recall 92% \n",
    "We are goint to use this model in test data"
   ]
  },
  {
   "cell_type": "markdown",
   "id": "f7cf591b",
   "metadata": {},
   "source": [
    "## Model Evaluation"
   ]
  },
  {
   "cell_type": "markdown",
   "id": "456a3121",
   "metadata": {},
   "source": [
    "We will use decision tree model on test data "
   ]
  },
  {
   "cell_type": "code",
   "execution_count": 9,
   "id": "ce2b8dae",
   "metadata": {},
   "outputs": [],
   "source": [
    "y_pred_test= rf.predict(X_test)\n",
    "y_proba = rf.predict_proba(X_test)"
   ]
  },
  {
   "cell_type": "code",
   "execution_count": 10,
   "id": "d518273d",
   "metadata": {},
   "outputs": [
    {
     "name": "stdout",
     "output_type": "stream",
     "text": [
      "              precision    recall  f1-score   support\n",
      "\n",
      "           0       0.84      0.89      0.87      1035\n",
      "           1       0.64      0.54      0.59       374\n",
      "\n",
      "    accuracy                           0.80      1409\n",
      "   macro avg       0.74      0.72      0.73      1409\n",
      "weighted avg       0.79      0.80      0.79      1409\n",
      "\n"
     ]
    }
   ],
   "source": [
    "print(classification_report(y_test, y_pred_test))"
   ]
  },
  {
   "cell_type": "code",
   "execution_count": 11,
   "id": "c3d33376",
   "metadata": {},
   "outputs": [
    {
     "name": "stdout",
     "output_type": "stream",
     "text": [
      "Accuracy of Random Forest on test set: 0.80\n"
     ]
    }
   ],
   "source": [
    "print('Accuracy of Random Forest on test set: {:.2f}'\n",
    "     .format(rf.score(X_test, y_test)))"
   ]
  },
  {
   "cell_type": "code",
   "execution_count": 12,
   "id": "b156e8ff",
   "metadata": {},
   "outputs": [
    {
     "name": "stdout",
     "output_type": "stream",
     "text": [
      "Accuracy of Random Forest on validate set: 0.81\n"
     ]
    }
   ],
   "source": [
    "print('Accuracy of Random Forest on validate set: {:.2f}'\n",
    "     .format(rf.score(X_validate, y_validate)))"
   ]
  },
  {
   "cell_type": "code",
   "execution_count": 45,
   "id": "6c531697",
   "metadata": {},
   "outputs": [
    {
     "name": "stdout",
     "output_type": "stream",
     "text": [
      "Accuracy of Random Forest on train set: 0.81\n"
     ]
    }
   ],
   "source": [
    "print('Accuracy of Random Forest on train set: {:.2f}'\n",
    "     .format(rf.score(X_train, y_train)))"
   ]
  },
  {
   "cell_type": "markdown",
   "id": "5821713a",
   "metadata": {},
   "source": [
    "## Predictions"
   ]
  },
  {
   "cell_type": "code",
   "execution_count": null,
   "id": "0e7b5ea3",
   "metadata": {},
   "outputs": [],
   "source": [
    "Create a csv file of the churn probabilty and prediction using the best model"
   ]
  },
  {
   "cell_type": "code",
   "execution_count": 13,
   "id": "7ce2f867",
   "metadata": {},
   "outputs": [],
   "source": [
    "#Creating empty DataFrame:\n",
    "predictions = pd.DataFrame()\n",
    "#Creating customer_id column:\n",
    "predictions['customer_id'] = test.customer_id\n",
    "#Creating prediction column:\n",
    "predictions['prediction'] = y_pred_test\n",
    "#Creating probability column:\n",
    "predictions['probability'] = y_proba[:,1]\n",
    "#convert to csv and export it to repo as csv\n",
    "predictions.to_csv(\"predictions.csv\")"
   ]
  },
  {
   "cell_type": "code",
   "execution_count": 14,
   "id": "2048df20",
   "metadata": {},
   "outputs": [
    {
     "data": {
      "text/html": [
       "<div>\n",
       "<style scoped>\n",
       "    .dataframe tbody tr th:only-of-type {\n",
       "        vertical-align: middle;\n",
       "    }\n",
       "\n",
       "    .dataframe tbody tr th {\n",
       "        vertical-align: top;\n",
       "    }\n",
       "\n",
       "    .dataframe thead th {\n",
       "        text-align: right;\n",
       "    }\n",
       "</style>\n",
       "<table border=\"1\" class=\"dataframe\">\n",
       "  <thead>\n",
       "    <tr style=\"text-align: right;\">\n",
       "      <th></th>\n",
       "      <th>customer_id</th>\n",
       "      <th>prediction</th>\n",
       "      <th>probability</th>\n",
       "    </tr>\n",
       "  </thead>\n",
       "  <tbody>\n",
       "    <tr>\n",
       "      <th>3160</th>\n",
       "      <td>4531-AUZNK</td>\n",
       "      <td>0</td>\n",
       "      <td>0.164563</td>\n",
       "    </tr>\n",
       "    <tr>\n",
       "      <th>1577</th>\n",
       "      <td>2296-DKZFP</td>\n",
       "      <td>0</td>\n",
       "      <td>0.036528</td>\n",
       "    </tr>\n",
       "    <tr>\n",
       "      <th>6823</th>\n",
       "      <td>9692-TUSXH</td>\n",
       "      <td>1</td>\n",
       "      <td>0.556457</td>\n",
       "    </tr>\n",
       "    <tr>\n",
       "      <th>3615</th>\n",
       "      <td>5129-JLPIS</td>\n",
       "      <td>0</td>\n",
       "      <td>0.383372</td>\n",
       "    </tr>\n",
       "    <tr>\n",
       "      <th>882</th>\n",
       "      <td>1273-MTETI</td>\n",
       "      <td>1</td>\n",
       "      <td>0.706835</td>\n",
       "    </tr>\n",
       "  </tbody>\n",
       "</table>\n",
       "</div>"
      ],
      "text/plain": [
       "     customer_id  prediction  probability\n",
       "3160  4531-AUZNK           0     0.164563\n",
       "1577  2296-DKZFP           0     0.036528\n",
       "6823  9692-TUSXH           1     0.556457\n",
       "3615  5129-JLPIS           0     0.383372\n",
       "882   1273-MTETI           1     0.706835"
      ]
     },
     "execution_count": 14,
     "metadata": {},
     "output_type": "execute_result"
    }
   ],
   "source": [
    "predictions.head()"
   ]
  },
  {
   "cell_type": "code",
   "execution_count": 15,
   "id": "89b7769c",
   "metadata": {},
   "outputs": [],
   "source": [
    "#export it to repo as csv\n",
    "predictions.to_csv(\"predictions.csv\",index = \"False\")"
   ]
  },
  {
   "cell_type": "markdown",
   "id": "93d5a4e4",
   "metadata": {},
   "source": [
    "## Conclusion"
   ]
  },
  {
   "cell_type": "code",
   "execution_count": null,
   "id": "b350109c",
   "metadata": {},
   "outputs": [],
   "source": []
  },
  {
   "cell_type": "markdown",
   "id": "c34db53c",
   "metadata": {},
   "source": [
    "## Recommendations"
   ]
  },
  {
   "cell_type": "code",
   "execution_count": null,
   "id": "d2701860",
   "metadata": {},
   "outputs": [],
   "source": [
    "1. Sign up deals that during early tenures that binds them in long term contract\n",
    "2. Get in to "
   ]
  }
 ],
 "metadata": {
  "kernelspec": {
   "display_name": "Python 3 (ipykernel)",
   "language": "python",
   "name": "python3"
  },
  "language_info": {
   "codemirror_mode": {
    "name": "ipython",
    "version": 3
   },
   "file_extension": ".py",
   "mimetype": "text/x-python",
   "name": "python",
   "nbconvert_exporter": "python",
   "pygments_lexer": "ipython3",
   "version": "3.9.12"
  }
 },
 "nbformat": 4,
 "nbformat_minor": 5
}
